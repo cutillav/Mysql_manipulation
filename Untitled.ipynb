{
 "cells": [
  {
   "cell_type": "code",
   "execution_count": 49,
   "metadata": {
    "collapsed": true
   },
   "outputs": [],
   "source": [
    "import pandas as pd"
   ]
  },
  {
   "cell_type": "code",
   "execution_count": 57,
   "metadata": {
    "collapsed": false
   },
   "outputs": [],
   "source": [
    "data = pd.read_csv(\"data.csv\",header=0)"
   ]
  },
  {
   "cell_type": "code",
   "execution_count": 51,
   "metadata": {
    "collapsed": false
   },
   "outputs": [
    {
     "data": {
      "text/plain": [
       "Country or Area     object\n",
       "Year                 int64\n",
       "Comm. Code          object\n",
       "Commodity           object\n",
       "Flow                object\n",
       "Trade (USD)          int64\n",
       "Weight (kg)        float64\n",
       "Quantity Name       object\n",
       "Quantity           float64\n",
       "dtype: object"
      ]
     },
     "execution_count": 51,
     "metadata": {},
     "output_type": "execute_result"
    }
   ],
   "source": [
    "data.dtypes"
   ]
  },
  {
   "cell_type": "markdown",
   "metadata": {},
   "source": [
    "We are now going to create a mysql databaseusing the python mysql connector"
   ]
  },
  {
   "cell_type": "code",
   "execution_count": 60,
   "metadata": {
    "collapsed": false
   },
   "outputs": [
    {
     "name": "stdout",
     "output_type": "stream",
     "text": [
      "\n"
     ]
    }
   ],
   "source": [
    "import pymysql\n",
    "db1 = pymysql.connect(host='localhost',user=\"root\", passwd=\"root\")\n",
    "cursor = db1.cursor()\n",
    "sql = 'CREATE DATABASE mydata'\n",
    "cursor.execute(sql)"
   ]
  },
  {
   "cell_type": "markdown",
   "metadata": {},
   "source": [
    "Next, create a table"
   ]
  },
  {
   "cell_type": "code",
   "execution_count": 10,
   "metadata": {
    "collapsed": false
   },
   "outputs": [
    {
     "data": {
      "text/plain": [
       "0"
      ]
     },
     "execution_count": 10,
     "metadata": {},
     "output_type": "execute_result"
    }
   ],
   "source": [
    "cursor.execute(\"use mydata\")\n",
    "sql = '''CREATE TABLE data (\n",
    "       country VARCHAR(50) DEFAULT NULL,\n",
    "       year VARCHAR(4) DEFAULT NULL,\n",
    "       comm_code VARCHAR(20) DEFAULT NULL,\n",
    "       commodity VARCHAR(20) DEFAULT NULL,\n",
    "       flow VARCHAR(10) DEFAULT NULL,\n",
    "       trade VARCHAR(15) DEFAULT NULL,\n",
    "       weight VARCHAR(15) DEFAULT NULL,\n",
    "       quantity_name VARCHAR(15) DEFAULT NULL,\n",
    "       quantity VARCHAR(15) DEFAULT NULL       \n",
    "       ) ENGINE=MyISAM DEFAULT CHARSET=latin1\n",
    "       '''\n",
    "cursor.execute(sql)"
   ]
  },
  {
   "cell_type": "code",
   "execution_count": 53,
   "metadata": {
    "collapsed": false
   },
   "outputs": [],
   "source": [
    "from pandas.io import sql"
   ]
  },
  {
   "cell_type": "code",
   "execution_count": 54,
   "metadata": {
    "collapsed": false
   },
   "outputs": [
    {
     "name": "stdout",
     "output_type": "stream",
     "text": [
      "joder hostia\n"
     ]
    }
   ],
   "source": [
    "print 'joder %s' %'hostia'"
   ]
  },
  {
   "cell_type": "code",
   "execution_count": 58,
   "metadata": {
    "collapsed": false
   },
   "outputs": [],
   "source": [
    "for index, row in data.iterrows():\n",
    "    cursor.execute(\"use mydata\")\n",
    "    linea = \"\"\"insert into data (country,year,comm_code,commodity,flow,trade,weight,quantity_name,quantity) values( %s, %s, %s, %s, %s, %s, %s, %s, %s )\"\"\" %(\"\"\"'\"\"\"+row['Country or Area']+\"\"\"'\"\"\",\"\"\"'\"\"\"+str(row['Year'])+\"\"\"'\"\"\",\"\"\"'\"\"\"+row['Comm. Code']+\"\"\"'\"\"\",\"\"\"'\"\"\"+row['Commodity']+\"\"\"'\"\"\",\"\"\"'\"\"\"+row['Flow']+\"\"\"'\"\"\",\"\"\"'\"\"\"+str(row['Trade (USD)'])+\"\"\"'\"\"\",\"\"\"'\"\"\"+str(row['Weight (kg)'])+\"\"\"'\"\"\",\"\"\"'\"\"\"+row['Quantity Name']+\"\"\"'\"\"\",\"\"\"'\"\"\"+str(row['Quantity'])+\"\"\"'\"\"\")\n",
    "    cursor.execute(linea)\n",
    "   "
   ]
  },
  {
   "cell_type": "code",
   "execution_count": null,
   "metadata": {
    "collapsed": true
   },
   "outputs": [],
   "source": [
    "sql."
   ]
  }
 ],
 "metadata": {
  "kernelspec": {
   "display_name": "Python 2",
   "language": "python",
   "name": "python2"
  },
  "language_info": {
   "codemirror_mode": {
    "name": "ipython",
    "version": 2
   },
   "file_extension": ".py",
   "mimetype": "text/x-python",
   "name": "python",
   "nbconvert_exporter": "python",
   "pygments_lexer": "ipython2",
   "version": "2.7.6"
  }
 },
 "nbformat": 4,
 "nbformat_minor": 2
}
